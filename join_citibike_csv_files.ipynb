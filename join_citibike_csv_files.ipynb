{
 "cells": [
  {
   "cell_type": "code",
   "execution_count": 1,
   "metadata": {},
   "outputs": [],
   "source": [
    "#Import modules and libraries\n",
    "import pandas as pd\n",
    "from glob import glob\n",
    "import datetime"
   ]
  },
  {
   "cell_type": "code",
   "execution_count": 2,
   "metadata": {},
   "outputs": [
    {
     "data": {
      "text/plain": [
       "['data\\\\JC-201801-citibike-tripdata.csv',\n",
       " 'data\\\\JC-201802-citibike-tripdata.csv',\n",
       " 'data\\\\JC-201803-citibike-tripdata.csv',\n",
       " 'data\\\\JC-201804-citibike-tripdata.csv',\n",
       " 'data\\\\JC-201805-citibike-tripdata.csv',\n",
       " 'data\\\\JC-201806-citibike-tripdata.csv',\n",
       " 'data\\\\JC-201807-citibike-tripdata.csv',\n",
       " 'data\\\\JC-201808-citibike-tripdata.csv',\n",
       " 'data\\\\JC-201809-citibike-tripdata.csv',\n",
       " 'data\\\\JC-201810-citibike-tripdata.csv',\n",
       " 'data\\\\JC-201811-citibike-tripdata.csv',\n",
       " 'data\\\\JC-201812-citibike-tripdata.csv',\n",
       " 'data\\\\JC-201901-citibike-tripdata.csv',\n",
       " 'data\\\\JC-201902-citibike-tripdata.csv',\n",
       " 'data\\\\JC-201903-citibike-tripdata.csv',\n",
       " 'data\\\\JC-201904-citibike-tripdata.csv',\n",
       " 'data\\\\JC-201905-citibike-tripdata.csv',\n",
       " 'data\\\\JC-201906-citibike-tripdata.csv',\n",
       " 'data\\\\JC-201907-citibike-tripdata.csv',\n",
       " 'data\\\\JC-201908-citibike-tripdata.csv',\n",
       " 'data\\\\JC-201909-citibike-tripdata.csv',\n",
       " 'data\\\\JC-201910-citibike-tripdata.csv',\n",
       " 'data\\\\JC-201911-citibike-tripdata.csv',\n",
       " 'data\\\\JC-201912-citibike-tripdata.csv',\n",
       " 'data\\\\JC-202001-citibike-tripdata.csv',\n",
       " 'data\\\\JC-202002-citibike-tripdata.csv',\n",
       " 'data\\\\JC-202003-citibike-tripdata.csv',\n",
       " 'data\\\\JC-202004-citibike-tripdata.csv',\n",
       " 'data\\\\JC-202005-citibike-tripdata.csv',\n",
       " 'data\\\\JC-202006-citibike-tripdata.csv',\n",
       " 'data\\\\JC-202007-citibike-tripdata.csv',\n",
       " 'data\\\\JC-202008-citibike-tripdata.csv',\n",
       " 'data\\\\JC-202009-citibike-tripdata.csv',\n",
       " 'data\\\\JC-202010-citibike-tripdata.csv',\n",
       " 'data\\\\JC-202011-citibike-tripdata.csv',\n",
       " 'data\\\\JC-202012-citibike-tripdata.csv',\n",
       " 'data\\\\JC-202101-citibike-tripdata.csv',\n",
       " 'data\\\\JC-202102-citibike-tripdata.csv',\n",
       " 'data\\\\JC-202103-citibike-tripdata.csv',\n",
       " 'data\\\\JC-202104-citibike-tripdata.csv']"
      ]
     },
     "execution_count": 2,
     "metadata": {},
     "output_type": "execute_result"
    }
   ],
   "source": [
    "stock_files =sorted(glob('data/JC-*-citibike-tripdata.csv'))\n",
    "stock_files"
   ]
  },
  {
   "cell_type": "code",
   "execution_count": 3,
   "metadata": {
    "scrolled": true
   },
   "outputs": [],
   "source": [
    "df=pd.concat((pd.read_csv(file)\n",
    "          for file in stock_files), ignore_index = True)"
   ]
  },
  {
   "cell_type": "code",
   "execution_count": 4,
   "metadata": {},
   "outputs": [
    {
     "data": {
      "text/plain": [
       "tripduration                 int64\n",
       "starttime                   object\n",
       "stoptime                    object\n",
       "start station id             int64\n",
       "start station name          object\n",
       "start station latitude     float64\n",
       "start station longitude    float64\n",
       "end station id               int64\n",
       "end station name            object\n",
       "end station latitude       float64\n",
       "end station longitude      float64\n",
       "bikeid                       int64\n",
       "usertype                    object\n",
       "birth year                   int64\n",
       "gender                       int64\n",
       "dtype: object"
      ]
     },
     "execution_count": 4,
     "metadata": {},
     "output_type": "execute_result"
    }
   ],
   "source": [
    "df.dtypes"
   ]
  },
  {
   "cell_type": "code",
   "execution_count": 6,
   "metadata": {},
   "outputs": [],
   "source": [
    "df['starttime']=pd.to_datetime(df['starttime'])"
   ]
  },
  {
   "cell_type": "code",
   "execution_count": 7,
   "metadata": {},
   "outputs": [],
   "source": [
    "df['Age']=(df['starttime'].dt.year)-df['birth year']"
   ]
  },
  {
   "cell_type": "code",
   "execution_count": 8,
   "metadata": {
    "scrolled": true
   },
   "outputs": [
    {
     "data": {
      "text/html": [
       "<div>\n",
       "<style scoped>\n",
       "    .dataframe tbody tr th:only-of-type {\n",
       "        vertical-align: middle;\n",
       "    }\n",
       "\n",
       "    .dataframe tbody tr th {\n",
       "        vertical-align: top;\n",
       "    }\n",
       "\n",
       "    .dataframe thead th {\n",
       "        text-align: right;\n",
       "    }\n",
       "</style>\n",
       "<table border=\"1\" class=\"dataframe\">\n",
       "  <thead>\n",
       "    <tr style=\"text-align: right;\">\n",
       "      <th></th>\n",
       "      <th>tripduration</th>\n",
       "      <th>starttime</th>\n",
       "      <th>stoptime</th>\n",
       "      <th>start station id</th>\n",
       "      <th>start station name</th>\n",
       "      <th>start station latitude</th>\n",
       "      <th>start station longitude</th>\n",
       "      <th>end station id</th>\n",
       "      <th>end station name</th>\n",
       "      <th>end station latitude</th>\n",
       "      <th>end station longitude</th>\n",
       "      <th>bikeid</th>\n",
       "      <th>usertype</th>\n",
       "      <th>birth year</th>\n",
       "      <th>gender</th>\n",
       "      <th>Age</th>\n",
       "    </tr>\n",
       "  </thead>\n",
       "  <tbody>\n",
       "    <tr>\n",
       "      <th>0</th>\n",
       "      <td>932</td>\n",
       "      <td>2018-01-01 02:06:17.541</td>\n",
       "      <td>2018-01-01 02:21:50.0270</td>\n",
       "      <td>3183</td>\n",
       "      <td>Exchange Place</td>\n",
       "      <td>40.716247</td>\n",
       "      <td>-74.033459</td>\n",
       "      <td>3199</td>\n",
       "      <td>Newport Pkwy</td>\n",
       "      <td>40.728745</td>\n",
       "      <td>-74.032108</td>\n",
       "      <td>31929</td>\n",
       "      <td>Subscriber</td>\n",
       "      <td>1992</td>\n",
       "      <td>1</td>\n",
       "      <td>26</td>\n",
       "    </tr>\n",
       "    <tr>\n",
       "      <th>1</th>\n",
       "      <td>550</td>\n",
       "      <td>2018-01-01 12:06:18.039</td>\n",
       "      <td>2018-01-01 12:15:28.4430</td>\n",
       "      <td>3183</td>\n",
       "      <td>Exchange Place</td>\n",
       "      <td>40.716247</td>\n",
       "      <td>-74.033459</td>\n",
       "      <td>3199</td>\n",
       "      <td>Newport Pkwy</td>\n",
       "      <td>40.728745</td>\n",
       "      <td>-74.032108</td>\n",
       "      <td>31845</td>\n",
       "      <td>Subscriber</td>\n",
       "      <td>1969</td>\n",
       "      <td>2</td>\n",
       "      <td>49</td>\n",
       "    </tr>\n",
       "    <tr>\n",
       "      <th>2</th>\n",
       "      <td>510</td>\n",
       "      <td>2018-01-01 12:06:56.978</td>\n",
       "      <td>2018-01-01 12:15:27.8100</td>\n",
       "      <td>3183</td>\n",
       "      <td>Exchange Place</td>\n",
       "      <td>40.716247</td>\n",
       "      <td>-74.033459</td>\n",
       "      <td>3199</td>\n",
       "      <td>Newport Pkwy</td>\n",
       "      <td>40.728745</td>\n",
       "      <td>-74.032108</td>\n",
       "      <td>31708</td>\n",
       "      <td>Subscriber</td>\n",
       "      <td>1946</td>\n",
       "      <td>1</td>\n",
       "      <td>72</td>\n",
       "    </tr>\n",
       "    <tr>\n",
       "      <th>3</th>\n",
       "      <td>354</td>\n",
       "      <td>2018-01-01 14:53:10.186</td>\n",
       "      <td>2018-01-01 14:59:05.0960</td>\n",
       "      <td>3183</td>\n",
       "      <td>Exchange Place</td>\n",
       "      <td>40.716247</td>\n",
       "      <td>-74.033459</td>\n",
       "      <td>3267</td>\n",
       "      <td>Morris Canal</td>\n",
       "      <td>40.712419</td>\n",
       "      <td>-74.038526</td>\n",
       "      <td>31697</td>\n",
       "      <td>Subscriber</td>\n",
       "      <td>1994</td>\n",
       "      <td>1</td>\n",
       "      <td>24</td>\n",
       "    </tr>\n",
       "    <tr>\n",
       "      <th>4</th>\n",
       "      <td>250</td>\n",
       "      <td>2018-01-01 17:34:30.192</td>\n",
       "      <td>2018-01-01 17:38:40.9840</td>\n",
       "      <td>3183</td>\n",
       "      <td>Exchange Place</td>\n",
       "      <td>40.716247</td>\n",
       "      <td>-74.033459</td>\n",
       "      <td>3639</td>\n",
       "      <td>Harborside</td>\n",
       "      <td>40.719252</td>\n",
       "      <td>-74.034234</td>\n",
       "      <td>31861</td>\n",
       "      <td>Subscriber</td>\n",
       "      <td>1991</td>\n",
       "      <td>1</td>\n",
       "      <td>27</td>\n",
       "    </tr>\n",
       "  </tbody>\n",
       "</table>\n",
       "</div>"
      ],
      "text/plain": [
       "   tripduration               starttime                  stoptime  \\\n",
       "0           932 2018-01-01 02:06:17.541  2018-01-01 02:21:50.0270   \n",
       "1           550 2018-01-01 12:06:18.039  2018-01-01 12:15:28.4430   \n",
       "2           510 2018-01-01 12:06:56.978  2018-01-01 12:15:27.8100   \n",
       "3           354 2018-01-01 14:53:10.186  2018-01-01 14:59:05.0960   \n",
       "4           250 2018-01-01 17:34:30.192  2018-01-01 17:38:40.9840   \n",
       "\n",
       "   start station id start station name  start station latitude  \\\n",
       "0              3183     Exchange Place               40.716247   \n",
       "1              3183     Exchange Place               40.716247   \n",
       "2              3183     Exchange Place               40.716247   \n",
       "3              3183     Exchange Place               40.716247   \n",
       "4              3183     Exchange Place               40.716247   \n",
       "\n",
       "   start station longitude  end station id end station name  \\\n",
       "0               -74.033459            3199     Newport Pkwy   \n",
       "1               -74.033459            3199     Newport Pkwy   \n",
       "2               -74.033459            3199     Newport Pkwy   \n",
       "3               -74.033459            3267     Morris Canal   \n",
       "4               -74.033459            3639       Harborside   \n",
       "\n",
       "   end station latitude  end station longitude  bikeid    usertype  \\\n",
       "0             40.728745             -74.032108   31929  Subscriber   \n",
       "1             40.728745             -74.032108   31845  Subscriber   \n",
       "2             40.728745             -74.032108   31708  Subscriber   \n",
       "3             40.712419             -74.038526   31697  Subscriber   \n",
       "4             40.719252             -74.034234   31861  Subscriber   \n",
       "\n",
       "   birth year  gender  Age  \n",
       "0        1992       1   26  \n",
       "1        1969       2   49  \n",
       "2        1946       1   72  \n",
       "3        1994       1   24  \n",
       "4        1991       1   27  "
      ]
     },
     "execution_count": 8,
     "metadata": {},
     "output_type": "execute_result"
    }
   ],
   "source": [
    "df.head()"
   ]
  },
  {
   "cell_type": "code",
   "execution_count": 11,
   "metadata": {},
   "outputs": [],
   "source": [
    "df.to_csv(\"JC-201801-202104-citibike-tripdata.csv\")"
   ]
  },
  {
   "cell_type": "code",
   "execution_count": null,
   "metadata": {},
   "outputs": [],
   "source": [
    "#age_df=df.loc[:,['starttime','birth year','Age']]"
   ]
  },
  {
   "cell_type": "code",
   "execution_count": null,
   "metadata": {},
   "outputs": [],
   "source": [
    "#age_df=age_df.loc[df['Age']>100]"
   ]
  },
  {
   "cell_type": "code",
   "execution_count": null,
   "metadata": {},
   "outputs": [],
   "source": [
    "#age_df['birth year'].value_counts()"
   ]
  },
  {
   "cell_type": "code",
   "execution_count": null,
   "metadata": {},
   "outputs": [],
   "source": [
    "#age_df=age_df.set_index('Age')\n",
    "#age_df"
   ]
  },
  {
   "cell_type": "code",
   "execution_count": null,
   "metadata": {},
   "outputs": [],
   "source": []
  }
 ],
 "metadata": {
  "kernelspec": {
   "display_name": "Python 3",
   "language": "python",
   "name": "python3"
  },
  "language_info": {
   "codemirror_mode": {
    "name": "ipython",
    "version": 3
   },
   "file_extension": ".py",
   "mimetype": "text/x-python",
   "name": "python",
   "nbconvert_exporter": "python",
   "pygments_lexer": "ipython3",
   "version": "3.6.10"
  }
 },
 "nbformat": 4,
 "nbformat_minor": 4
}
